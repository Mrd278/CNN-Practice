{
  "nbformat": 4,
  "nbformat_minor": 0,
  "metadata": {
    "colab": {
      "name": "CNN Prac.ipynb",
      "version": "0.3.2",
      "provenance": [],
      "collapsed_sections": [],
      "include_colab_link": true
    },
    "kernelspec": {
      "name": "python3",
      "display_name": "Python 3"
    }
  },
  "cells": [
    {
      "cell_type": "markdown",
      "metadata": {
        "id": "view-in-github",
        "colab_type": "text"
      },
      "source": [
        "<a href=\"https://colab.research.google.com/github/Mrd278/CNN-Practice/blob/master/CNN_Prac.ipynb\" target=\"_parent\"><img src=\"https://colab.research.google.com/assets/colab-badge.svg\" alt=\"Open In Colab\"/></a>"
      ]
    },
    {
      "cell_type": "code",
      "metadata": {
        "id": "js2ix1mUtag9",
        "colab_type": "code",
        "colab": {}
      },
      "source": [
        "import numpy as np\n",
        "import matplotlib.pyplot as plt"
      ],
      "execution_count": 0,
      "outputs": []
    },
    {
      "cell_type": "code",
      "metadata": {
        "id": "tHMkrdRutf7D",
        "colab_type": "code",
        "colab": {}
      },
      "source": [
        "gray_scale_img = [3,0,1,2,7,4,1,5,8,9,3,1,2,7,2,5,1,3,0,1,3,1,7,8,4,2,1,6,2,8,2,4,5,2,3,9]\n",
        "gray_scale_img = np.asarray(gray_scale_img)\n",
        "gray_scale_img = gray_scale_img.reshape(6,6)"
      ],
      "execution_count": 0,
      "outputs": []
    },
    {
      "cell_type": "code",
      "metadata": {
        "id": "hTT-ndEJuG8n",
        "colab_type": "code",
        "colab": {
          "base_uri": "https://localhost:8080/",
          "height": 287
        },
        "outputId": "8937b303-0351-4766-8bb7-1a48fe9e8d86"
      },
      "source": [
        "plt.imshow(gray_scale_img)"
      ],
      "execution_count": 3,
      "outputs": [
        {
          "output_type": "execute_result",
          "data": {
            "text/plain": [
              "<matplotlib.image.AxesImage at 0x7ff4ee5c5a20>"
            ]
          },
          "metadata": {
            "tags": []
          },
          "execution_count": 3
        },
        {
          "output_type": "display_data",
          "data": {
            "image/png": "[encoded data removed]",
            "text/plain": [
              "<Figure size 432x288 with 1 Axes>"
            ]
          },
          "metadata": {
            "tags": []
          }
        }
      ]
    },
    {
      "cell_type": "code",
      "metadata": {
        "id": "42MgCLkRuLoG",
        "colab_type": "code",
        "colab": {}
      },
      "source": [
        "filt = [1,0,-1,1,0,-1,1,0,-1]\n",
        "filt = np.asarray(filt)\n",
        "filt = filt.reshape(3,3)"
      ],
      "execution_count": 0,
      "outputs": []
    },
    {
      "cell_type": "code",
      "metadata": {
        "id": "p_DSPRezu_yq",
        "colab_type": "code",
        "colab": {}
      },
      "source": [
        "def Result_matrix(gray_img, filt):\n",
        "  \n",
        "  m = gray_img.shape[0]\n",
        "  n = gray_img.shape[1]\n",
        "  \n",
        "  filt_m = filt.shape[0]\n",
        "  filt_n = filt.shape[1]\n",
        "  \n",
        "  A = np.zeros((m-filt_m+1)**2)\n",
        "  k = 0\n",
        "  c = 0\n",
        "  \n",
        "  for c in range((m - filt_m + 1)):\n",
        "    for p in range((n - filt_n + 1)):\n",
        "        for i in range(filt_m):\n",
        "          for j in range(filt_n):\n",
        "            A[k] = A[k] + gray_img[i+c][j+p] * filt[i][j]\n",
        "        k = k + 1\n",
        "  \n",
        "  A = A.reshape((m-filt_m+1),(m-filt_m+1))\n",
        "  \n",
        "  return A"
      ],
      "execution_count": 0,
      "outputs": []
    },
    {
      "cell_type": "code",
      "metadata": {
        "id": "karOqXRKvCAT",
        "colab_type": "code",
        "colab": {}
      },
      "source": [
        "C = Result_matrix(gray_scale_img, filt)"
      ],
      "execution_count": 0,
      "outputs": []
    },
    {
      "cell_type": "code",
      "metadata": {
        "id": "ildgbUmRy4-L",
        "colab_type": "code",
        "colab": {
          "base_uri": "https://localhost:8080/",
          "height": 104
        },
        "outputId": "ddafd35f-f27a-4eaf-83a8-f90b47b8bfa8"
      },
      "source": [
        "print(\"Detecting the edges from the gray scale image: \\n\",C)"
      ],
      "execution_count": 59,
      "outputs": [
        {
          "output_type": "stream",
          "text": [
            "Detecting the edges from the gray scale image: \n",
            " [[ -5.  -4.   0.   8.]\n",
            " [-10.  -2.   2.   3.]\n",
            " [  0.  -2.  -4.  -7.]\n",
            " [ -3.  -2.  -3. -16.]]\n"
          ],
          "name": "stdout"
        }
      ]
    },
    {
      "cell_type": "code",
      "metadata": {
        "id": "iYtUDlQZzXbW",
        "colab_type": "code",
        "colab": {
          "base_uri": "https://localhost:8080/",
          "height": 287
        },
        "outputId": "b89f5272-d04c-4873-8504-e69fd4d80484"
      },
      "source": [
        "plt.imshow(C)"
      ],
      "execution_count": 60,
      "outputs": [
        {
          "output_type": "execute_result",
          "data": {
            "text/plain": [
              "<matplotlib.image.AxesImage at 0x7ff4ebb1c518>"
            ]
          },
          "metadata": {
            "tags": []
          },
          "execution_count": 60
        },
        {
          "output_type": "display_data",
          "data": {
            "image/png": "[encoded data removed]",
            "text/plain": [
              "<Figure size 432x288 with 1 Axes>"
            ]
          },
          "metadata": {
            "tags": []
          }
        }
      ]
    },
    {
      "cell_type": "code",
      "metadata": {
        "id": "3tQqrBKmzd0o",
        "colab_type": "code",
        "colab": {
          "base_uri": "https://localhost:8080/",
          "height": 208
        },
        "outputId": "c2747cad-b388-4105-b021-d1c7110a7c8a"
      },
      "source": [
        "print(\"gray image: \\n\",gray_scale_img,\"\\n Filter: \\n\",filt)"
      ],
      "execution_count": 61,
      "outputs": [
        {
          "output_type": "stream",
          "text": [
            "gray image: \n",
            " [[3 0 1 2 7 4]\n",
            " [1 5 8 9 3 1]\n",
            " [2 7 2 5 1 3]\n",
            " [0 1 3 1 7 8]\n",
            " [4 2 1 6 2 8]\n",
            " [2 4 5 2 3 9]] \n",
            " Filter: \n",
            " [[ 1  0 -1]\n",
            " [ 1  0 -1]\n",
            " [ 1  0 -1]]\n"
          ],
          "name": "stdout"
        }
      ]
    },
    {
      "cell_type": "code",
      "metadata": {
        "id": "xsFX08AYztEh",
        "colab_type": "code",
        "colab": {}
      },
      "source": [
        ""
      ],
      "execution_count": 0,
      "outputs": []
    },
    {
      "cell_type": "markdown",
      "metadata": {
        "id": "NrOGMHb-8rcN",
        "colab_type": "text"
      },
      "source": [
        "Another Example"
      ]
    },
    {
      "cell_type": "code",
      "metadata": {
        "id": "KneuhYET8uZn",
        "colab_type": "code",
        "colab": {}
      },
      "source": [
        "gray_scale = np.zeros((6,6))\n",
        "first_half = np.ones(18)*10\n",
        "\n",
        "first_half = first_half.reshape(6,3)\n",
        "\n",
        "gray_scale[:,:3] = first_half"
      ],
      "execution_count": 0,
      "outputs": []
    },
    {
      "cell_type": "code",
      "metadata": {
        "id": "-9BJpjER9HhU",
        "colab_type": "code",
        "colab": {
          "base_uri": "https://localhost:8080/",
          "height": 121
        },
        "outputId": "f41e98b0-8082-490f-8067-7bc4867166b3"
      },
      "source": [
        "print(gray_scale)"
      ],
      "execution_count": 64,
      "outputs": [
        {
          "output_type": "stream",
          "text": [
            "[[10. 10. 10.  0.  0.  0.]\n",
            " [10. 10. 10.  0.  0.  0.]\n",
            " [10. 10. 10.  0.  0.  0.]\n",
            " [10. 10. 10.  0.  0.  0.]\n",
            " [10. 10. 10.  0.  0.  0.]\n",
            " [10. 10. 10.  0.  0.  0.]]\n"
          ],
          "name": "stdout"
        }
      ]
    },
    {
      "cell_type": "code",
      "metadata": {
        "id": "buVtvRAA9OPM",
        "colab_type": "code",
        "colab": {}
      },
      "source": [
        "Filter = np.zeros((3,3))\n",
        "\n",
        "Filter[:,0] = np.ones(3).reshape(3)\n",
        "Filter[:,2] = np.ones(3).reshape(3)*-1"
      ],
      "execution_count": 0,
      "outputs": []
    },
    {
      "cell_type": "code",
      "metadata": {
        "id": "4VyoqjvU9pL_",
        "colab_type": "code",
        "colab": {
          "base_uri": "https://localhost:8080/",
          "height": 69
        },
        "outputId": "10b2413b-a603-47fe-9996-31908c2cdfd0"
      },
      "source": [
        "print(Filter)"
      ],
      "execution_count": 68,
      "outputs": [
        {
          "output_type": "stream",
          "text": [
            "[[ 1.  0. -1.]\n",
            " [ 1.  0. -1.]\n",
            " [ 1.  0. -1.]]\n"
          ],
          "name": "stdout"
        }
      ]
    },
    {
      "cell_type": "code",
      "metadata": {
        "id": "OlNBvIsw9-EP",
        "colab_type": "code",
        "colab": {}
      },
      "source": [
        "Result = Result_matrix(gray_scale, Filter)"
      ],
      "execution_count": 0,
      "outputs": []
    },
    {
      "cell_type": "code",
      "metadata": {
        "id": "7Y24IT4F-kvv",
        "colab_type": "code",
        "colab": {
          "base_uri": "https://localhost:8080/",
          "height": 87
        },
        "outputId": "28b608c6-64a5-4c27-8516-ae673c4d3745"
      },
      "source": [
        "print(Result)"
      ],
      "execution_count": 70,
      "outputs": [
        {
          "output_type": "stream",
          "text": [
            "[[ 0. 30. 30.  0.]\n",
            " [ 0. 30. 30.  0.]\n",
            " [ 0. 30. 30.  0.]\n",
            " [ 0. 30. 30.  0.]]\n"
          ],
          "name": "stdout"
        }
      ]
    },
    {
      "cell_type": "code",
      "metadata": {
        "id": "dJiI1rAn-nLq",
        "colab_type": "code",
        "colab": {
          "base_uri": "https://localhost:8080/",
          "height": 220
        },
        "outputId": "1d0c6afe-d3eb-47b7-9e79-8408fabd77a5"
      },
      "source": [
        "print(\"Gray Scale Image: 1\")\n",
        "plt.subplot(1,3,1)\n",
        "plt.imshow(gray_scale)\n",
        "\n",
        "print(\"Filter: 2\")\n",
        "plt.subplot(1,3,2)\n",
        "plt.imshow(Filter)\n",
        "\n",
        "print(\"Detect Images: 3\")\n",
        "plt.subplot(1,3,3)\n",
        "plt.imshow(Result)"
      ],
      "execution_count": 75,
      "outputs": [
        {
          "output_type": "stream",
          "text": [
            "Gray Scale Image: 1\n",
            "Filter: 2\n",
            "Detect Images: 3\n"
          ],
          "name": "stdout"
        },
        {
          "output_type": "execute_result",
          "data": {
            "text/plain": [
              "<matplotlib.image.AxesImage at 0x7ff4eb5636d8>"
            ]
          },
          "metadata": {
            "tags": []
          },
          "execution_count": 75
        },
        {
          "output_type": "display_data",
          "data": {
            "image/png": "[encoded data removed]",
            "text/plain": [
              "<Figure size 432x288 with 3 Axes>"
            ]
          },
          "metadata": {
            "tags": []
          }
        }
      ]
    },
    {
      "cell_type": "code",
      "metadata": {
        "id": "vVOLn6Ch-59q",
        "colab_type": "code",
        "colab": {}
      },
      "source": [
        ""
      ],
      "execution_count": 0,
      "outputs": []
    }
  ]
}